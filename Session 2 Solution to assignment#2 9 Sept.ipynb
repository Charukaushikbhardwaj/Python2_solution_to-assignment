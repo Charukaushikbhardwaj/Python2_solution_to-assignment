{
 "cells": [
  {
   "cell_type": "code",
   "execution_count": 11,
   "metadata": {},
   "outputs": [
    {
     "name": "stdout",
     "output_type": "stream",
     "text": [
      "Provide a sequence of comma seperated numbers: 1,2,3,4\n",
      "['1', '2', '3', '4']\n"
     ]
    }
   ],
   "source": [
    "#Solution to problem 1\n",
    "Input=input(\"Provide a sequence of comma seperated numbers: \")\n",
    "List=Input.split(',')\n",
    "print(List)\n"
   ]
  },
  {
   "cell_type": "code",
   "execution_count": 4,
   "metadata": {},
   "outputs": [
    {
     "name": "stdout",
     "output_type": "stream",
     "text": [
      "*\n",
      "**\n",
      "***\n",
      "****\n",
      "*****\n",
      "****\n",
      "***\n",
      "**\n",
      "*\n"
     ]
    }
   ],
   "source": [
    "#solution to problem 2\n",
    "\n",
    "for i in range(1,6,1):\n",
    "        print(\"*\"*i)\n",
    "for i in range(4,0,-1):\n",
    "        print('*'*i)\n",
    "        \n",
    "        \n",
    "    \n",
    "    \n",
    "     \n"
   ]
  },
  {
   "cell_type": "code",
   "execution_count": 10,
   "metadata": {},
   "outputs": [
    {
     "name": "stdout",
     "output_type": "stream",
     "text": [
      "Enter a name: charu\n",
      "urahc\n"
     ]
    }
   ],
   "source": [
    "#solution to problem 3\n",
    "Input=str(input(\"Enter a name: \"))\n",
    "print(Input[-1::-1])\n",
    "\n",
    "\n"
   ]
  },
  {
   "cell_type": "code",
   "execution_count": null,
   "metadata": {},
   "outputs": [],
   "source": [
    "#Solution to problem 4\n",
    "Input=\"WE, THE PEOPLE OF INDIA,having solemnly resolved to constitute Indis into a SOVERIEGN, SOCIALIST, SECULAR, DEMOCRATIC REPUBLIC and to secureto all its citizens\""
   ]
  },
  {
   "cell_type": "code",
   "execution_count": null,
   "metadata": {},
   "outputs": [],
   "source": [
    "cudnt understand the question:("
   ]
  }
 ],
 "metadata": {
  "kernelspec": {
   "display_name": "Python 3",
   "language": "python",
   "name": "python3"
  },
  "language_info": {
   "codemirror_mode": {
    "name": "ipython",
    "version": 3
   },
   "file_extension": ".py",
   "mimetype": "text/x-python",
   "name": "python",
   "nbconvert_exporter": "python",
   "pygments_lexer": "ipython3",
   "version": "3.6.5"
  }
 },
 "nbformat": 4,
 "nbformat_minor": 2
}
